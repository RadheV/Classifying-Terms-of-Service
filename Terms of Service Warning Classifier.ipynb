{
 "cells": [
  {
   "cell_type": "code",
   "execution_count": 1,
   "metadata": {},
   "outputs": [],
   "source": [
    "import pandas as pd\n",
    "import numpy as np\n",
    "import itertools\n",
    "from sklearn.model_selection import train_test_split\n",
    "from sklearn.feature_extraction.text import CountVectorizer, TfidfVectorizer\n",
    "from sklearn.linear_model import LogisticRegression\n",
    "from sklearn.ensemble import RandomForestClassifier\n",
    "from nltk.corpus import wordnet\n",
    "from nltk.stem import WordNetLemmatizer\n",
    "from nltk.tokenize import RegexpTokenizer\n",
    "import requests\n",
    "from readability import Document\n",
    "import re\n",
    "from unicodedata import normalize"
   ]
  },
  {
   "cell_type": "code",
   "execution_count": 11,
   "metadata": {},
   "outputs": [],
   "source": [
    "def key_terms(url):\n",
    "    response = requests.get(url)\n",
    "    doc = Document(response.text)\n",
    "    full_text = doc.summary(html_partial=True)\n",
    "    full_text = full_text.replace(r\"\\n\", \" \")\n",
    "    full_text = full_text.replace(r\"\\t\", \" \")\n",
    "    full_text = full_text.replace(r\"/\", \" \")\n",
    "    full_text = full_text.replace(r\"<p>\", \" \")\n",
    "    full_text = normalize('NFKD', full_text)\n",
    "    full_text = full_text.split('< p>')\n",
    "    \n",
    "    TAG_RE = re.compile(r'<[^>][^>]+>')\n",
    "    \n",
    "    def remove_tags(text):\n",
    "        return TAG_RE.sub(' ', text)\n",
    "    \n",
    "    term_text = list(map(remove_tags, full_text))\n",
    "    term_frame = pd.DataFrame(np.array(term_text), columns = ['quoteText'])\n",
    "    \n",
    "    tokenizer = RegexpTokenizer(r'\\w+')\n",
    "    term_frame['tokenized'] = term_frame['quoteText'].apply(tokenizer.tokenize)\n",
    "    \n",
    "    def text_to_words(titletext):\n",
    "        letters_only = re.sub(\"[^a-zA-Z]\", \" \", titletext)\n",
    "        words = letters_only.lower().split()\n",
    "        lemmatizer = WordNetLemmatizer()\n",
    "        tokens_lem = [lemmatizer.lemmatize(i) for i in words]\n",
    "        return(' '.join(tokens_lem))\n",
    "    \n",
    "    \n",
    "    lemm_text=[]\n",
    "    for text in term_frame['quoteText']:\n",
    "        lemm_text.append(text_to_words(text))\n",
    "        \n",
    "        return lemm_text"
   ]
  },
  {
   "cell_type": "code",
   "execution_count": 15,
   "metadata": {},
   "outputs": [
    {
     "data": {
      "text/plain": [
       "['your acceptance this is an agreement between whatsapp inc a california corporation whatsapp the owner and operator of www whatsapp com the whatsapp site the whatsapp software including whatsapp messenger collectively including all content provided by whatsapp through whatsapp messenger and the whatsapp site the whatsapp service or the service and you you or you a user of the service by using the service you acknowledge and agree to these term of service and whatsapp s privacy policy which can be found at http www whatsapp com legal privacy and which are incorporated herein by reference if you choose to not agree with any of these term you may not use the service']"
      ]
     },
     "execution_count": 15,
     "metadata": {},
     "output_type": "execute_result"
    }
   ],
   "source": [
    "key_terms('https://www.whatsapp.com/legal?doc=terms-of-service&version=20120707')"
   ]
  },
  {
   "cell_type": "code",
   "execution_count": 92,
   "metadata": {},
   "outputs": [],
   "source": [
    "df = pd.read_csv('../webapp/revised_rating_data')"
   ]
  },
  {
   "cell_type": "code",
   "execution_count": 93,
   "metadata": {
    "scrolled": true
   },
   "outputs": [
    {
     "data": {
      "text/html": [
       "<div>\n",
       "<style scoped>\n",
       "    .dataframe tbody tr th:only-of-type {\n",
       "        vertical-align: middle;\n",
       "    }\n",
       "\n",
       "    .dataframe tbody tr th {\n",
       "        vertical-align: top;\n",
       "    }\n",
       "\n",
       "    .dataframe thead th {\n",
       "        text-align: right;\n",
       "    }\n",
       "</style>\n",
       "<table border=\"1\" class=\"dataframe\">\n",
       "  <thead>\n",
       "    <tr style=\"text-align: right;\">\n",
       "      <th></th>\n",
       "      <th>id</th>\n",
       "      <th>needModeration</th>\n",
       "      <th>services</th>\n",
       "      <th>title</th>\n",
       "      <th>quoteText</th>\n",
       "      <th>topics</th>\n",
       "      <th>case</th>\n",
       "      <th>tokenized</th>\n",
       "      <th>lemmatized</th>\n",
       "      <th>point_bad</th>\n",
       "      <th>point_non-bad</th>\n",
       "    </tr>\n",
       "  </thead>\n",
       "  <tbody>\n",
       "    <tr>\n",
       "      <th>0</th>\n",
       "      <td>5309</td>\n",
       "      <td>0.0</td>\n",
       "      <td>10minutemail</td>\n",
       "      <td>IP addresses of website visitors are not tracked</td>\n",
       "      <td>10MinuteMail com does NOT keep logs or records...</td>\n",
       "      <td>Anonymity and Tracking</td>\n",
       "      <td>IP addresses of website visitors are not tracked</td>\n",
       "      <td>['10MinuteMail', 'com', 'does', 'NOT', 'keep',...</td>\n",
       "      <td>minutemail com doe not keep log or record of y...</td>\n",
       "      <td>0</td>\n",
       "      <td>1</td>\n",
       "    </tr>\n",
       "    <tr>\n",
       "      <th>1</th>\n",
       "      <td>5310</td>\n",
       "      <td>0.0</td>\n",
       "      <td>10minutemail</td>\n",
       "      <td>This service only uses temporary session cookies</td>\n",
       "      <td>A temporary cookie is used to allow the servic...</td>\n",
       "      <td>Cookies</td>\n",
       "      <td>This service only uses temporary session cookies</td>\n",
       "      <td>['A', 'temporary', 'cookie', 'is', 'used', 'to...</td>\n",
       "      <td>a temporary cookie is used to allow the servic...</td>\n",
       "      <td>0</td>\n",
       "      <td>1</td>\n",
       "    </tr>\n",
       "    <tr>\n",
       "      <th>2</th>\n",
       "      <td>6723</td>\n",
       "      <td>0.0</td>\n",
       "      <td>1password</td>\n",
       "      <td>Users should revisit the terms periodically, a...</td>\n",
       "      <td>At our discretion, we may make changes to this...</td>\n",
       "      <td>Changes</td>\n",
       "      <td>Users should revisit the terms periodically, a...</td>\n",
       "      <td>['At', 'our', 'discretion', 'we', 'may', 'make...</td>\n",
       "      <td>at our discretion we may make change to this p...</td>\n",
       "      <td>0</td>\n",
       "      <td>1</td>\n",
       "    </tr>\n",
       "    <tr>\n",
       "      <th>3</th>\n",
       "      <td>6725</td>\n",
       "      <td>1.0</td>\n",
       "      <td>1password</td>\n",
       "      <td>The service is provided 'as is' and to be used...</td>\n",
       "      <td>Your use of the Service is at your sole risk  ...</td>\n",
       "      <td>User information</td>\n",
       "      <td>The service is provided 'as is' and to be used...</td>\n",
       "      <td>['Your', 'use', 'of', 'the', 'Service', 'is', ...</td>\n",
       "      <td>your use of the service is at your sole risk t...</td>\n",
       "      <td>1</td>\n",
       "      <td>0</td>\n",
       "    </tr>\n",
       "    <tr>\n",
       "      <th>4</th>\n",
       "      <td>6726</td>\n",
       "      <td>1.0</td>\n",
       "      <td>1password</td>\n",
       "      <td>The service provider makes no warranty regardi...</td>\n",
       "      <td>AgileBits, Inc  its subsidiaries, affiliates, ...</td>\n",
       "      <td>Guarantee</td>\n",
       "      <td>The service provider makes no warranty regardi...</td>\n",
       "      <td>['AgileBits', 'Inc', 'its', 'subsidiaries', 'a...</td>\n",
       "      <td>agilebits inc it subsidiary affiliate and it l...</td>\n",
       "      <td>1</td>\n",
       "      <td>0</td>\n",
       "    </tr>\n",
       "    <tr>\n",
       "      <th>...</th>\n",
       "      <td>...</td>\n",
       "      <td>...</td>\n",
       "      <td>...</td>\n",
       "      <td>...</td>\n",
       "      <td>...</td>\n",
       "      <td>...</td>\n",
       "      <td>...</td>\n",
       "      <td>...</td>\n",
       "      <td>...</td>\n",
       "      <td>...</td>\n",
       "      <td>...</td>\n",
       "    </tr>\n",
       "    <tr>\n",
       "      <th>2398</th>\n",
       "      <td>7170</td>\n",
       "      <td>1.0</td>\n",
       "      <td>zenimaxmediainc-</td>\n",
       "      <td>This service ignores the Do Not Track (DNT) he...</td>\n",
       "      <td>Do Not Track Requests  Currently, our systems...</td>\n",
       "      <td>Anonymity and Tracking</td>\n",
       "      <td>This service ignores the Do Not Track (DNT) he...</td>\n",
       "      <td>['Do', 'Not', 'Track', 'Requests', 'Currently'...</td>\n",
       "      <td>do not track request currently our system do n...</td>\n",
       "      <td>1</td>\n",
       "      <td>0</td>\n",
       "    </tr>\n",
       "    <tr>\n",
       "      <th>2399</th>\n",
       "      <td>7171</td>\n",
       "      <td>1.0</td>\n",
       "      <td>zenimaxmediainc-</td>\n",
       "      <td>The service allows you to opt out of providing...</td>\n",
       "      <td>Custom Audiences and Matching    Unless you ha...</td>\n",
       "      <td>User choice</td>\n",
       "      <td>The service allows you to opt out of providing...</td>\n",
       "      <td>['Custom', 'Audiences', 'and', 'Matching', 'Un...</td>\n",
       "      <td>custom audience and matching unless you have o...</td>\n",
       "      <td>0</td>\n",
       "      <td>1</td>\n",
       "    </tr>\n",
       "    <tr>\n",
       "      <th>2400</th>\n",
       "      <td>7760</td>\n",
       "      <td>1.0</td>\n",
       "      <td>zoosk</td>\n",
       "      <td>This service is only available to users of a c...</td>\n",
       "      <td>AGE RESTRICTIONS Although our website is a gen...</td>\n",
       "      <td>Governance</td>\n",
       "      <td>This service is only available to users of a c...</td>\n",
       "      <td>['AGE', 'RESTRICTIONS', 'Although', 'our', 'we...</td>\n",
       "      <td>age restriction although our website is a gene...</td>\n",
       "      <td>0</td>\n",
       "      <td>1</td>\n",
       "    </tr>\n",
       "    <tr>\n",
       "      <th>2401</th>\n",
       "      <td>7761</td>\n",
       "      <td>1.0</td>\n",
       "      <td>zoosk</td>\n",
       "      <td>This service ignores the Do Not Track (DNT) he...</td>\n",
       "      <td>We do not respond to do not track signals set ...</td>\n",
       "      <td>Anonymity and Tracking</td>\n",
       "      <td>This service ignores the Do Not Track (DNT) he...</td>\n",
       "      <td>['We', 'do', 'not', 'respond', 'to', 'do', 'no...</td>\n",
       "      <td>we do not respond to do not track signal set b...</td>\n",
       "      <td>1</td>\n",
       "      <td>0</td>\n",
       "    </tr>\n",
       "    <tr>\n",
       "      <th>2402</th>\n",
       "      <td>7377</td>\n",
       "      <td>0.0</td>\n",
       "      <td>Лабиринт</td>\n",
       "      <td>There is a date of the last update of the terms</td>\n",
       "      <td>28 11 2018</td>\n",
       "      <td>Changes</td>\n",
       "      <td>There is a date of the last update of the terms</td>\n",
       "      <td>['28', '11', '2018']</td>\n",
       "      <td>NaN</td>\n",
       "      <td>0</td>\n",
       "      <td>1</td>\n",
       "    </tr>\n",
       "  </tbody>\n",
       "</table>\n",
       "<p>2403 rows × 11 columns</p>\n",
       "</div>"
      ],
      "text/plain": [
       "        id  needModeration          services  \\\n",
       "0     5309             0.0      10minutemail   \n",
       "1     5310             0.0      10minutemail   \n",
       "2     6723             0.0         1password   \n",
       "3     6725             1.0         1password   \n",
       "4     6726             1.0         1password   \n",
       "...    ...             ...               ...   \n",
       "2398  7170             1.0  zenimaxmediainc-   \n",
       "2399  7171             1.0  zenimaxmediainc-   \n",
       "2400  7760             1.0             zoosk   \n",
       "2401  7761             1.0             zoosk   \n",
       "2402  7377             0.0          Лабиринт   \n",
       "\n",
       "                                                  title  \\\n",
       "0      IP addresses of website visitors are not tracked   \n",
       "1      This service only uses temporary session cookies   \n",
       "2     Users should revisit the terms periodically, a...   \n",
       "3     The service is provided 'as is' and to be used...   \n",
       "4     The service provider makes no warranty regardi...   \n",
       "...                                                 ...   \n",
       "2398  This service ignores the Do Not Track (DNT) he...   \n",
       "2399  The service allows you to opt out of providing...   \n",
       "2400  This service is only available to users of a c...   \n",
       "2401  This service ignores the Do Not Track (DNT) he...   \n",
       "2402    There is a date of the last update of the terms   \n",
       "\n",
       "                                              quoteText  \\\n",
       "0     10MinuteMail com does NOT keep logs or records...   \n",
       "1     A temporary cookie is used to allow the servic...   \n",
       "2     At our discretion, we may make changes to this...   \n",
       "3     Your use of the Service is at your sole risk  ...   \n",
       "4     AgileBits, Inc  its subsidiaries, affiliates, ...   \n",
       "...                                                 ...   \n",
       "2398   Do Not Track Requests  Currently, our systems...   \n",
       "2399  Custom Audiences and Matching    Unless you ha...   \n",
       "2400  AGE RESTRICTIONS Although our website is a gen...   \n",
       "2401  We do not respond to do not track signals set ...   \n",
       "2402                                         28 11 2018   \n",
       "\n",
       "                      topics  \\\n",
       "0     Anonymity and Tracking   \n",
       "1                    Cookies   \n",
       "2                    Changes   \n",
       "3           User information   \n",
       "4                  Guarantee   \n",
       "...                      ...   \n",
       "2398  Anonymity and Tracking   \n",
       "2399             User choice   \n",
       "2400              Governance   \n",
       "2401  Anonymity and Tracking   \n",
       "2402                 Changes   \n",
       "\n",
       "                                                   case  \\\n",
       "0      IP addresses of website visitors are not tracked   \n",
       "1      This service only uses temporary session cookies   \n",
       "2     Users should revisit the terms periodically, a...   \n",
       "3     The service is provided 'as is' and to be used...   \n",
       "4     The service provider makes no warranty regardi...   \n",
       "...                                                 ...   \n",
       "2398  This service ignores the Do Not Track (DNT) he...   \n",
       "2399  The service allows you to opt out of providing...   \n",
       "2400  This service is only available to users of a c...   \n",
       "2401  This service ignores the Do Not Track (DNT) he...   \n",
       "2402    There is a date of the last update of the terms   \n",
       "\n",
       "                                              tokenized  \\\n",
       "0     ['10MinuteMail', 'com', 'does', 'NOT', 'keep',...   \n",
       "1     ['A', 'temporary', 'cookie', 'is', 'used', 'to...   \n",
       "2     ['At', 'our', 'discretion', 'we', 'may', 'make...   \n",
       "3     ['Your', 'use', 'of', 'the', 'Service', 'is', ...   \n",
       "4     ['AgileBits', 'Inc', 'its', 'subsidiaries', 'a...   \n",
       "...                                                 ...   \n",
       "2398  ['Do', 'Not', 'Track', 'Requests', 'Currently'...   \n",
       "2399  ['Custom', 'Audiences', 'and', 'Matching', 'Un...   \n",
       "2400  ['AGE', 'RESTRICTIONS', 'Although', 'our', 'we...   \n",
       "2401  ['We', 'do', 'not', 'respond', 'to', 'do', 'no...   \n",
       "2402                               ['28', '11', '2018']   \n",
       "\n",
       "                                             lemmatized  point_bad  \\\n",
       "0     minutemail com doe not keep log or record of y...          0   \n",
       "1     a temporary cookie is used to allow the servic...          0   \n",
       "2     at our discretion we may make change to this p...          0   \n",
       "3     your use of the service is at your sole risk t...          1   \n",
       "4     agilebits inc it subsidiary affiliate and it l...          1   \n",
       "...                                                 ...        ...   \n",
       "2398  do not track request currently our system do n...          1   \n",
       "2399  custom audience and matching unless you have o...          0   \n",
       "2400  age restriction although our website is a gene...          0   \n",
       "2401  we do not respond to do not track signal set b...          1   \n",
       "2402                                                NaN          0   \n",
       "\n",
       "      point_non-bad  \n",
       "0                 1  \n",
       "1                 1  \n",
       "2                 1  \n",
       "3                 0  \n",
       "4                 0  \n",
       "...             ...  \n",
       "2398              0  \n",
       "2399              1  \n",
       "2400              1  \n",
       "2401              0  \n",
       "2402              1  \n",
       "\n",
       "[2403 rows x 11 columns]"
      ]
     },
     "execution_count": 93,
     "metadata": {},
     "output_type": "execute_result"
    }
   ],
   "source": [
    "df"
   ]
  },
  {
   "cell_type": "code",
   "execution_count": 104,
   "metadata": {},
   "outputs": [],
   "source": [
    "lemmatized = df['lemmatized'].tolist()"
   ]
  },
  {
   "cell_type": "code",
   "execution_count": 151,
   "metadata": {},
   "outputs": [],
   "source": [
    "X = df['lemmatized']\n",
    "y = df['point_non-bad']"
   ]
  },
  {
   "cell_type": "code",
   "execution_count": 152,
   "metadata": {},
   "outputs": [
    {
     "data": {
      "text/plain": [
       "(2403,)"
      ]
     },
     "execution_count": 152,
     "metadata": {},
     "output_type": "execute_result"
    }
   ],
   "source": [
    "X.shape"
   ]
  },
  {
   "cell_type": "code",
   "execution_count": 153,
   "metadata": {},
   "outputs": [
    {
     "data": {
      "text/plain": [
       "(2403,)"
      ]
     },
     "execution_count": 153,
     "metadata": {},
     "output_type": "execute_result"
    }
   ],
   "source": [
    "y.shape"
   ]
  },
  {
   "cell_type": "code",
   "execution_count": 154,
   "metadata": {},
   "outputs": [],
   "source": [
    "X_train, X_test, y_train, y_test = train_test_split(X, y, test_size=0.25, random_state=42)"
   ]
  },
  {
   "cell_type": "code",
   "execution_count": 155,
   "metadata": {},
   "outputs": [
    {
     "data": {
      "text/plain": [
       "1802"
      ]
     },
     "execution_count": 155,
     "metadata": {},
     "output_type": "execute_result"
    }
   ],
   "source": [
    "len(X_train)"
   ]
  },
  {
   "cell_type": "code",
   "execution_count": 156,
   "metadata": {},
   "outputs": [
    {
     "data": {
      "text/plain": [
       "(1802,)"
      ]
     },
     "execution_count": 156,
     "metadata": {},
     "output_type": "execute_result"
    }
   ],
   "source": [
    "y_train.shape"
   ]
  },
  {
   "cell_type": "code",
   "execution_count": 157,
   "metadata": {},
   "outputs": [
    {
     "data": {
      "text/plain": [
       "0    0.516438\n",
       "1    0.483562\n",
       "Name: point_non-bad, dtype: float64"
      ]
     },
     "execution_count": 157,
     "metadata": {},
     "output_type": "execute_result"
    }
   ],
   "source": [
    "y.value_counts(normalize=True)"
   ]
  },
  {
   "cell_type": "code",
   "execution_count": 163,
   "metadata": {},
   "outputs": [
    {
     "data": {
      "text/plain": [
       "TfidfVectorizer(analyzer='word', binary=False, decode_error='strict',\n",
       "                dtype=<class 'numpy.float64'>, encoding='utf-8',\n",
       "                input='content', lowercase=True, max_df=1.0, max_features=None,\n",
       "                min_df=1, ngram_range=(1, 1), norm='l2', preprocessor=None,\n",
       "                smooth_idf=True, stop_words='english', strip_accents=None,\n",
       "                sublinear_tf=False, token_pattern='(?u)\\\\b\\\\w\\\\w+\\\\b',\n",
       "                tokenizer=None, use_idf=True, vocabulary=None)"
      ]
     },
     "execution_count": 163,
     "metadata": {},
     "output_type": "execute_result"
    }
   ],
   "source": [
    "tvec = TfidfVectorizer(stop_words='english')\n",
    "tvec.fit(X_train.values.astype('U'))"
   ]
  },
  {
   "cell_type": "code",
   "execution_count": 165,
   "metadata": {},
   "outputs": [],
   "source": [
    "X_train = tvec.transform(X_train.values.astype('U'))"
   ]
  },
  {
   "cell_type": "code",
   "execution_count": 166,
   "metadata": {},
   "outputs": [],
   "source": [
    "lr = LogisticRegression()"
   ]
  },
  {
   "cell_type": "code",
   "execution_count": 168,
   "metadata": {},
   "outputs": [
    {
     "data": {
      "text/plain": [
       "LogisticRegression(C=1.0, class_weight=None, dual=False, fit_intercept=True,\n",
       "                   intercept_scaling=1, l1_ratio=None, max_iter=100,\n",
       "                   multi_class='auto', n_jobs=None, penalty='l2',\n",
       "                   random_state=None, solver='lbfgs', tol=0.0001, verbose=0,\n",
       "                   warm_start=False)"
      ]
     },
     "execution_count": 168,
     "metadata": {},
     "output_type": "execute_result"
    }
   ],
   "source": [
    "lr.fit(X_train, y_train)"
   ]
  },
  {
   "cell_type": "code",
   "execution_count": 172,
   "metadata": {},
   "outputs": [],
   "source": [
    "url = \"https://www.whatsapp.com/legal?doc=terms-of-service&version=20120707\"\n",
    "response = requests.get(url)\n",
    "doc = Document(response.text)\n",
    "full_text = doc.summary(html_partial=True)"
   ]
  },
  {
   "cell_type": "code",
   "execution_count": 175,
   "metadata": {},
   "outputs": [
    {
     "data": {
      "text/plain": [
       "'<div><div class=\"_-pk rich-text\"><h3>1. Your Acceptance</h3>\\n<p>This is an agreement between WhatsApp Inc., a California corporation (\"WhatsApp\"), the owner and operator of <a href=\"http://www.whatsapp.com/\" data-lnfb-mode=\"ie\">www.whatsapp.com</a> (the \"WhatsApp Site\"), the WhatsApp software, including WhatsApp Messenger (collectively, including all content provided by WhatsApp through WhatsApp Messenger and the WhatsApp Site, the \"WhatsApp Service\", or the \"Service\"), and you (\"you\" or \"You\"), a user of the Service. BY USING THE SERVICE, YOU ACKNOWLEDGE AND AGREE TO THESE TERMS OF SERVICE, AND WHATSAPP\\'S PRIVACY POLICY, WHICH CAN BE FOUND AT <a class=\"_36or\" href=\"http://www.whatsapp.com/legal/#Privacy\" data-lnfb-mode=\"ie\"/><a href=\"http://www.whatsapp.com/legal/#Privacy\" data-lnfb-mode=\"ie\">http://www.whatsapp.com/legal/#Privacy</a>, AND WHICH ARE INCORPORATED HEREIN BY REFERENCE. If you choose to not agree with any of these terms, you may not use the Service.</p>\\n<h3>2. WhatsApp Service</h3>\\n<p>These Terms of Service apply to all users of the WhatsApp Service. Information provided by our users through the WhatsApp Service may contain links to third party websites that are not owned or controlled by WhatsApp. WhatsApp has no control over, and assumes no responsibility for, the content, privacy policies, or practices of any third party websites. In addition, WhatsApp will not and cannot censor or edit the content of any third-party site. By using the Service, you expressly acknowledge and agree that WhatsApp shall not be responsible for any damages, claims or other liability arising from or related to your use of any third-party website.</p>\\n<h3>3. WhatsApp Access</h3>\\n<p>A. Subject to your compliance with these Terms of Service, WhatsApp hereby grants you permission to use the Service, provided that: (i) your use of the Service as permitted is solely for your personal use, and you are not permitted to resell or charge others for use of or access to the Service, or in any other manner inconsistent with these Terms of Service; (ii) you will not duplicate, transfer, give access to, copy or distribute any part of the Service in any medium without WhatsApp\\'s prior written authorization; (iii) you will not attempt to reverse engineer, alter or modify any part of the Service; and (iv) you will otherwise comply with the terms and conditions of these Terms of Service and Privacy Policy.</p>\\n<p>B. In order to access and use the features of the Service, you acknowledge and agree that you will have to provide WhatsApp with your mobile phone number. You expressly acknowledge and agree that in order to provide the Service, WhatsApp may periodically access your contact list and/or address book on your mobile device to find and keep track of mobile phone numbers of other users of the Service. When providing your mobile phone number, you must provide accurate and complete information. You hereby give your express consent to WhatsApp to access your contact list and/or address book for mobile phone numbers in order to provide and use the Service. We do not collect names, addresses or email addresses, just mobile phone numbers. You are solely responsible for the status messages that you submit and that are displayed for your mobile phone number on the WhatsApp Service. You must notify WhatsApp immediately of any breach of security or unauthorized use of your mobile phone. Although WhatsApp will not be liable for your losses caused by any unauthorized use of your account, you may be liable for the losses of WhatsApp or others due to such unauthorized use.</p>\\n<p>C. You agree not to use or launch any automated system, including without limitation, \"robots,\" \"spiders,\" \"offline readers,\" etc. or \"load testers\" such as wget, apache bench, mswebstress, httpload, blitz, Xcode Automator, Android Monkey, etc., that accesses the Service in a manner that sends more request messages to the WhatsApp servers in a given period of time than a human can reasonably produce in the same period by using a WhatsApp application, and you are forbidden from ripping the content unless specifically allowed. Notwithstanding the foregoing, WhatsApp grants the operators of public search engines permission to use spiders to copy materials from the website for the sole purpose of creating publicly available searchable indices of the materials, but not caches or archives of such materials. WhatsApp reserves the right to revoke these exceptions either generally or in specific cases. While we don\\'t disallow the use of sniffers such as Ethereal, tcpdump or HTTPWatch in general, we do disallow any efforts to reverse-engineer our system, our protocols, or explore outside the boundaries of the normal requests made by WhatsApp clients. We have to disallow using request modification tools such as fiddler or whisker, or the like or any other such tools activities that are meant to explore or harm, penetrate or test the site. You must secure our permission before you measure, test, health check or otherwise monitor any network equipment, servers or assets hosted on our domain. You agree not to collect or harvest any personally identifiable information, including phone number, from the Service, nor to use the communication systems provided by the Service for any commercial solicitation or spam purposes. You agree not to spam, or solicit for commercial purposes, any users of the Service.</p>\\n<h3>4. Intellectual Property Rights</h3>\\n<p>The design of the WhatsApp Service along with WhatsApp created text, scripts, graphics, interactive features and the like, except Status Submissions (as defined below), and the trademarks, service marks and logos contained therein (\"Marks\"), are owned by or licensed to WhatsApp, subject to copyright and other intellectual property rights under United States and foreign laws and international conventions. The Service is provided to you AS IS for your information and personal use only. WhatsApp reserves all rights not expressly granted in and to the Service. You agree to not engage in the use, copying, or distribution of any of the Service other than expressly permitted herein, including any use, copying, or distribution of Status Submissions of third parties obtained through the Service for any commercial purposes.</p>\\n<h3>5. User Status Submissions</h3>\\n<p>A. The WhatsApp Service allows WhatsApp users to submit status text, profile photos and other communications submitted by you, as well as the automatic submission of your \"last seen\" status (collectively, the \"Status Submissions\"). These Status Submissions may be hosted, shared, and/or published as part of the WhatsApp Service, and may be visible to other users of the Service who have your mobile phone number in their mobile phone and which you have not expressly blocked. For clarity, direct messages, location data and photos or files that you send directly to other WhatsApp users will only be viewable by those WhatsApp user(s) or group(s) you directly send such information; but Status Submissions may be globally viewed by WhatsApp users that have your mobile phone number on their smartphone, unless the user is blocked by you. Currently, we have no method of providing different levels of visibility of your Status Submissions among users that have your mobile phone number – you acknowledge and agree that any Status Submissions may be globally viewed by users that have your mobile phone number, so don\\'t submit or post status messages or profile photos that you don\\'t want to be seen globally. A good rule of thumb is if you don\\'t want the whole world to know something or see something, don\\'t submit it as a Status Submission to the Service. The submission of your \\'last seen\\' status is done on an automatic basis. As clarified in the following section, you retain your ownership rights in your Status Submissions. You understand that whether or not such Status Submissions are published, WhatsApp does not guarantee any confidentiality with respect to any submissions.</p>\\n<p>B. You shall be solely responsible for your own Status Submissions and the consequences of posting or publishing them. Because WhatsApp is only acting as a repository of data, user submitted statuses do not necessarily represent the views or opinions of WhatsApp, and WhatsApp makes no guarantees as to the validity, accuracy or legal status of any status. In connection with Status Submissions, you affirm, represent, and/or warrant that: (i) you own or have the necessary licenses, rights, consents, and permissions to use and authorize WhatsApp to use all patent, trademark, trade secret, copyright or other proprietary rights in and to any and all Status Submissions to enable inclusion and use of the Status Submissions in the manner contemplated by the Service and these Terms of Service; and (ii) you have the written consent, release, and/or permission of each and every identifiable individual person in the Status Submission to use the name or likeness of each and every such identifiable individual person to enable inclusion and use of the Status Submissions in the manner contemplated by the Service and these Terms of Service. To be clear: you retain all of your ownership rights in your Status Submissions, but you have to have the rights in the first place. However, by submitting the Status Submissions to WhatsApp, you hereby grant WhatsApp a worldwide, non-exclusive, royalty-free, sublicenseable and transferable license to use, reproduce, distribute, prepare derivative works of, display, and perform the Status Submissions in connection with the WhatsApp Service and WhatsApp\\'s (and its successor\\'s) business, including without limitation for promoting and redistributing part or all of the WhatsApp Service (and derivative works thereof) in any media formats and through any media channels. You also hereby grant each subscriber to your status on the WhatsApp Service a non-exclusive license to access your Status Submissions through the Service. The foregoing license granted by you terminates once you remove or delete a Status Submission from the WhatsApp Service.</p>\\n<p>C. In connection with Status Submissions, you further agree that you will not: (i) submit material that is copyrighted, protected by trade secret or otherwise subject to third party proprietary rights, including privacy and publicity rights, unless you are the owner of such rights or have permission from their rightful owner to post the material and to grant WhatsApp all of the license rights granted herein; (ii) publish falsehoods or misrepresentations that could damage WhatsApp or any third party; (iii) submit material that is unlawful, obscene, defamatory, libelous, threatening, harassing, hateful, racially or ethnically offensive, or encourages conduct that would be considered a criminal offense, give rise to civil liability, violate any law, or is otherwise inappropriate; (iv) post advertisements or solicitations of business; (v) impersonate another person; (vi) send or store material containing software viruses, worms, Trojan horses or other harmful computer code, files, scripts, agents or programs; (vii) interfere with or disrupt the integrity or performance of the Service or the data contained therein; or (viii) attempt to gain unauthorized access to the Service or its related systems or networks.</p>\\n<p>D. Adult content must be identified as such. WhatsApp does not endorse any Status Submission or any opinion, recommendation, or advice expressed therein, and WhatsApp expressly disclaims any and all liability in connection with Status Submissions. WhatsApp does not permit copyright infringing activities and infringement of intellectual property rights via its Service, and WhatsApp will remove all content and Status Submissions if properly notified that such content or Status Submission infringes on another\\'s intellectual property rights. To file a copyright infringement notification, please send a written communication that includes substantially the following (see Section 512(c)(3) of the Digital Millennium Copyright Act): (i) A physical or electronic signature of a person authorized to act on behalf of the owner of an exclusive right that is allegedly infringed; (ii) Identification of the copyrighted work claimed to have been infringed, or, if multiple copyrighted works at a single online site are covered by a single notification, a representative list of such works; (iii) Identification of the material that is claimed to be infringing or to be the subject of infringing activity and that is to be removed or access to which is to be disabled, and information reasonably sufficient to permit the service provider to locate the material, including the mobile phone number of the WhatsApp user allegedly infringing the copyrighted work; (iv) Information reasonably sufficient to permit the service provider to contact the complaining party, such as an address, telephone number, and, if available, an electronic mail address at which the complaining party may be contacted; (v) A statement that the complaining party has a good faith belief that use of the material in the manner complained of is not authorized by the copyright owner, its agent, or the law; and (vi) A statement that the information in the notification is accurate, and under penalty of perjury, that the complaining party is authorized to act on behalf of the owner of an exclusive right that is allegedly infringed. Such takedown notices may be emailed to support at <a href=\"http://whatsapp.com/\" data-lnfb-mode=\"ie\">whatsapp.com.</a> WhatsApp reserves the right to remove content and Status Submissions without prior notice. WhatsApp may also terminate a user\\'s access to the Service, if they are determined to be a repeat infringer, or for any or no reason, including being annoying. A repeat infringer is a User who has been notified of infringing activity more than once and/or has had a Status Submission removed from the Service more than twice. An annoying person is anyone who is (capriciously or not) determined to be annoying by authorized WhatsApp employees, agents, subagents, superagents or superheros. WhatsApp also reserves the right to decide whether content or a Status Submission is appropriate and complies with these Terms of Service for violations other than copyright infringement and violations of intellectual property law, such as, but not limited to excessive length or limited interest. WhatsApp may remove such Status Submissions and/or terminate a User\\'s access for uploading such material in violation of these Terms of Service at any time, without prior notice and at its sole discretion.</p>\\n<p>E. You understand that when using the WhatsApp Service you will be exposed to Status Submissions from a variety of sources, and that WhatsApp is not responsible for the accuracy, usefulness, safety, or intellectual property rights of or relating to such Status Submissions, and that such Status Submissions are not the responsibility of WhatsApp. You further understand and acknowledge that you may be exposed to Status Submissions that are inaccurate, offensive, indecent, or objectionable, and you agree to waive, and hereby do waive, any legal or equitable rights or remedies you have or may have against WhatsApp with respect thereto, and agree to indemnify and hold WhatsApp, its officers, directors, employees, agents, affiliates, and/or licensors, harmless to the fullest extent allowed by law regarding all matters related to your use of the WhatsApp Service.</p>\\n<p>F. WhatsApp permits you to link to materials on the Service for personal purposes only. WhatsApp reserves the right to discontinue any aspect of the WhatsApp Service at any time.</p>\\n<h3>6. Warranty Disclaimer</h3>\\n<p>YOU AGREE THAT YOUR USE OF THE WHATSAPP SERVICE SHALL BE AT YOUR SOLE RISK. TO THE FULLEST EXTENT PERMITTED BY LAW, WHATSAPP, ITS OFFICERS, DIRECTORS, EMPLOYEES, AND AGENTS DISCLAIM ALL WARRANTIES, EXPRESS OR IMPLIED, IN CONNECTION WITH THE SERVICE AND YOUR USE THEREOF. WHATSAPP MAKES NO WARRANTIES OR REPRESENTATIONS ABOUT THE ACCURACY OR COMPLETENESS OF THIS SERVICE\\'S CONTENT AND ASSUMES NO LIABILITY OR RESPONSIBILITY FOR ANY (I) ERRORS, MISTAKES, OR INACCURACIES OF CONTENT, (II) PERSONAL INJURY OR PROPERTY DAMAGE, OF ANY NATURE WHATSOEVER, RESULTING FROM YOUR ACCESS TO AND USE OF OUR SERVICE, (III) ANY UNAUTHORIZED ACCESS TO OR USE OF OUR SERVERS AND/OR ANY AND ALL PERSONAL INFORMATION AND/OR FINANCIAL INFORMATION STORED THEREIN, (IV) ANY INTERRUPTION OR CESSATION OF TRANSMISSION TO OR FROM OUR SERVICE, (IV) ANY BUGS, VIRUSES, TROJAN HORSES, OR THE LIKE WHICH MAY BE TRANSMITTED TO OR THROUGH OUR SERVICE THROUGH THE ACTIONS OF ANY THIRD PARTY, AND/OR (V) ANY ERRORS OR OMISSIONSIN ANY CONTENT OR FOR ANY LOSS OR DAMAGE OF ANY KIND INCURRED AS A RESULT OF THE USE OF ANY CONTENT POSTED, EMAILED, TRANSMITTED, OR OTHERWISE MADE AVAILABLE VIA THE WHATSAPP SERVICE. WHATSAPP DOES NOT WARRANT, ENDORSE, GUARANTEE, OR ASSUME RESPONSIBILITY FOR ANY PRODUCT OR SERVICE ADVERTISED OR OFFERED BY A THIRD PARTY THROUGH THE WHATSAPP SERVICE OR ANY HYPERLINKED WEBSITE OR FEATURED IN ANY USER STATUS SUBMISSION OR OTHER ADVERTISING, AND WHATSAPP WILL NOT BE A PARTY TO OR IN ANY WAY BE RESPONSIBLE FOR MONITORING ANY TRANSACTION BETWEEN YOU AND THIRD-PARTY PROVIDERS OF PRODUCTS OR SERVICES. AS WITH THE PURCHASE OF A PRODUCT OR SERVICE THROUGH ANY MEDIUM OR IN ANY ENVIRONMENT, YOU SHOULD USE YOUR BEST JUDGMENT AND EXERCISE CAUTION WHERE APPROPRIATE. AND AGAIN, USE THIS JUST FOR FUN.</p>\\n<h3>7. Limitation of Liability</h3>\\n<p>IN NO EVENT SHALL WHATSAPP, ITS OFFICERS, DIRECTORS, EMPLOYEES, OR AGENTS, BE LIABLE TO YOU FOR ANY DIRECT, INDIRECT, INCIDENTAL, SPECIAL, PUNITIVE, OR CONSEQUENTIAL DAMAGES WHATSOEVER RESULTING FROM ANY (I) ERRORS, MISTAKES, OR INACCURACIES OF CONTENT, (II) PERSONAL INJURY OR PROPERTY DAMAGE, OF ANY NATURE WHATSOEVER, RESULTING FROM YOUR ACCESS TO AND USE OF OUR SERVICE, (III) ANY UNAUTHORIZED ACCESS TO OR USE OF OUR SECURE SERVERS AND/OR ANY AND ALL PERSONAL INFORMATION AND/OR FINANCIAL INFORMATION STORED THEREIN, (IV) ANY INTERRUPTION OR CESSATION OF TRANSMISSION TO OR FROM OUR SERVERS, (IV) ANY BUGS, VIRUSES, TROJAN HORSES, OR THE LIKE, WHICH MAY BE TRANSMITTED TO OR THROUGH OUR SERVICE BY ANY THIRD PARTY, (V) ANY ERRORS OR OMISSIONS IN ANY CONTENT OR FOR ANY LOSS OR DAMAGE OF ANY KIND INCURRED AS A RESULT OF YOUR USE OF ANY CONTENT POSTED, EMAILED, TRANSMITTED, OR OTHERWISE MADE AVAILABLE VIA THE WHATSAPP CLIENT, WHETHER BASED ON WARRANTY, CONTRACT, TORT, OR ANY OTHER LEGAL THEORY, AND WHETHER OR NOT THE COMPANY IS ADVISED OF THE POSSIBILITY OF SUCH DAMAGES, AND/OR (VI) THE DISCLOSURE OF INFORMATION PURSUANT TO THESE TERMS OF SERVICE OR PRIVACY POLICY. THE FOREGOING LIMITATION OF LIABILITY SHALL APPLY TO THE FULLEST EXTENT PERMITTED BY LAW IN THE APPLICABLE JURISDICTION.</p>\\n<p>YOU SPECIFICALLY ACKNOWLEDGE THAT WHATSAPP SHALL NOT BE LIABLE FOR USER SUBMISSIONS OR THE DEFAMATORY, OFFENSIVE, OR ILLEGAL CONDUCT OF ANY THIRD PARTY AND THAT THE RISK OF HARM OR DAMAGE FROM THE FOREGOING RESTS ENTIRELY WITH YOU.</p>\\n<p>The Service is controlled and offered by WhatsApp from its facilities in the United States of America. WhatsApp makes no representations that the WhatsApp Service is appropriate or available for use in other locations. Those who access or use the WhatsApp Service from other jurisdictions do so at their own volition and are responsible for compliance with local law.</p>\\n<h3>8. Indemnity</h3>\\n<p>You agree to defend, indemnify and hold harmless WhatsApp, its parent corporation, officers, directors, employees and agents, from and against any and all claims, damages, obligations, losses, liabilities, costs or debt, and expenses (including but not limited to attorney\\'s fees) arising from: (i) your use of and access to the WhatsApp Service; (ii) your violation of any term of these Terms of Service; (iii) your violation of any third party right, including without limitation any copyright, property, or privacy right; or (iv) any claim that one of your Status Submissions caused damage to a third party. This defense and indemnification obligation will survive these Terms of Service and your use of the WhatsApp Service. We don\\'t support or encourage illegal consumption of alcohol or tobacco, so there.</p>\\n<h3>9. Ability to Accept Terms of Service</h3>\\n<p>You affirm that you are either more than 16 years of age, or an emancipated minor, or possess legal parental or guardian consent, and are fully able and competent to enter into the terms, conditions, obligations, affirmations, representations, and warranties set forth in these Terms of Service, and to abide by and comply with these Terms of Service. In any case, you affirm that you are at least 16 years old as the WhatsApp Service is not intended for children under 16. If you are under 16 years of age, you are not permitted to use the WhatsApp Service. You further represent and warrant that you are not located in a country that is subject to a U.S. Government embargo, or that has been designated by the U.S. Government as a\" terrorist-supporting\" country, and that you are not listed on any U.S. Government list of prohibited or restricted parties. WhatsApp is the developer of the Service, with an address at 3561 Homestead Road, #416, Santa Clara, CA 95010-5161, info at <a href=\"http://whatsapp.com/\" data-lnfb-mode=\"ie\">whatsapp.com.</a></p>\\n<h3>10. Assignment</h3>\\n<p>These Terms of Service, and any rights and licenses granted hereunder, may not be transferred or assigned by you, but may be assigned by WhatsApp without restriction.</p>\\n<h3>11. General</h3>\\n<p>You agree that: (i) the WhatsApp Service shall be deemed solely based in California; (ii) the WhatsApp Service shall be deemed a passive server that does not give rise to personal jurisdiction over WhatsApp, either specific or general, in jurisdictions other than California; and (iii) that you agree to subject to the jurisdiction of California in the event of any legal dispute. These Terms of Service shall be governed by the internal substantive laws of the State of California, without respect to its conflict of laws principles. Any claim or dispute between you and WhatsApp that arises in whole or in part from the WhatsApp Service shall be decided exclusively by a court of competent jurisdiction located in Santa Clara County, California. These Terms of Service, together with the Privacy Policy at <a class=\"_36or\" href=\"http://www.whatsapp.com/legal/#Privacy\" data-lnfb-mode=\"ie\"/><a href=\"http://www.whatsapp.com/legal/#Privacy\" data-lnfb-mode=\"ie\">http://www.whatsapp.com/legal/#Privacy</a> and any other legal notices published by WhatsApp, including, but not limited to an end user license agreement, shall constitute the entire agreement between you and WhatsApp concerning the WhatsApp Service. If any provision of these Terms of Service is deemed invalid by a court of competent jurisdiction, the invalidity of such provision shall not affect the validity of the remaining provisions of these Terms of Service, which shall remain in full force and effect. No waiver of any term of this these Terms of Service shall be deemed a further or continuing waiver of such term or any other term, and WhatsApp\\'s failure to assert any right or provision under these Terms of Service shall not constitute a waiver of such right or provision. WhatsApp reserves the right to amend or modify these Terms of Service at any time, and it is your responsibility to review these Terms of Service for any changes. If you do not agree to the revised Terms, your only recourse is to discontinue the use of the WhatsApp Service. Your continued use of the WhatsApp Service following any amendment of these Terms of Service will signify your assent to and acceptance of its revised terms. YOU AND WHATSAPP AGREE THAT ANY CAUSE OF ACTION ARISING OUT OF OR RELATED TO THE WHATSAPP SERVICE MUST COMMENCE WITHIN ONE (1) YEAR AFTER THE CAUSE OF ACTION ACCRUES. OTHERWISE, SUCH CAUSE OF ACTION IS PERMANENTLY BARRED.</p>\\n</div></div>'"
      ]
     },
     "execution_count": 175,
     "metadata": {},
     "output_type": "execute_result"
    }
   ],
   "source": [
    "full_text"
   ]
  },
  {
   "cell_type": "code",
   "execution_count": 205,
   "metadata": {},
   "outputs": [],
   "source": [
    "full_text = full_text.replace(r\"\\n\", \" \")\n",
    "full_text = full_text.replace(r\"\\t\", \" \")\n",
    "full_text = full_text.replace(r\"/\", \" \")\n",
    "full_text = full_text.replace(r\"<p>\", \" \")\n",
    "full_text = normalize('NFKD', full_text)\n",
    "full_text = full_text.split('< p>')\n",
    "TAG_RE = re.compile(r'<[^>][^>]+>')\n",
    "    \n",
    "def remove_tags(text):\n",
    "    return TAG_RE.sub(' ', text)\n",
    "    \n",
    "term_text = list(map(remove_tags, full_text))\n",
    "term_frame = pd.DataFrame(np.array(term_text), columns = ['quoteText'])\n",
    "    \n",
    "def text_to_words(titletext):\n",
    "    letters_only = re.sub(\"[^a-zA-Z]\", \" \", titletext)\n",
    "    words = letters_only.lower().split()\n",
    "    lemmatizer = WordNetLemmatizer()\n",
    "    tokens_lem = [lemmatizer.lemmatize(i) for i in words]\n",
    "    return(' '.join(tokens_lem))\n",
    "    \n",
    "lemm_text=[]\n",
    "for text in data['quoteText']:\n",
    "    lemm_text.append(text_to_words(text))\n",
    "\n",
    "        "
   ]
  },
  {
   "cell_type": "code",
   "execution_count": 208,
   "metadata": {},
   "outputs": [
    {
     "data": {
      "text/plain": [
       "['your acceptance this is an agreement between whatsapp inc a california corporation whatsapp the owner and operator of www whatsapp com the whatsapp site the whatsapp software including whatsapp messenger collectively including all content provided by whatsapp through whatsapp messenger and the whatsapp site the whatsapp service or the service and you you or you a user of the service by using the service you acknowledge and agree to these term of service and whatsapp s privacy policy which can be found at http www whatsapp com legal privacy and which are incorporated herein by reference if you choose to not agree with any of these term you may not use the service',\n",
       " 'whatsapp service these term of service apply to all user of the whatsapp service information provided by our user through the whatsapp service may contain link to third party website that are not owned or controlled by whatsapp whatsapp ha no control over and assumes no responsibility for the content privacy policy or practice of any third party website in addition whatsapp will not and cannot censor or edit the content of any third party site by using the service you expressly acknowledge and agree that whatsapp shall not be responsible for any damage claim or other liability arising from or related to your use of any third party website',\n",
       " 'whatsapp access a subject to your compliance with these term of service whatsapp hereby grant you permission to use the service provided that i your use of the service a permitted is solely for your personal use and you are not permitted to resell or charge others for use of or access to the service or in any other manner inconsistent with these term of service ii you will not duplicate transfer give access to copy or distribute any part of the service in any medium without whatsapp s prior written authorization iii you will not attempt to reverse engineer alter or modify any part of the service and iv you will otherwise comply with the term and condition of these term of service and privacy policy',\n",
       " 'b in order to access and use the feature of the service you acknowledge and agree that you will have to provide whatsapp with your mobile phone number you expressly acknowledge and agree that in order to provide the service whatsapp may periodically access your contact list and or address book on your mobile device to find and keep track of mobile phone number of other user of the service when providing your mobile phone number you must provide accurate and complete information you hereby give your express consent to whatsapp to access your contact list and or address book for mobile phone number in order to provide and use the service we do not collect name address or email address just mobile phone number you are solely responsible for the status message that you submit and that are displayed for your mobile phone number on the whatsapp service you must notify whatsapp immediately of any breach of security or unauthorized use of your mobile phone although whatsapp will not be liable for your loss caused by any unauthorized use of your account you may be liable for the loss of whatsapp or others due to such unauthorized use',\n",
       " 'c you agree not to use or launch any automated system including without limitation robot spider offline reader etc or load tester such a wget apache bench mswebstress httpload blitz xcode automator android monkey etc that access the service in a manner that sends more request message to the whatsapp server in a given period of time than a human can reasonably produce in the same period by using a whatsapp application and you are forbidden from ripping the content unless specifically allowed notwithstanding the foregoing whatsapp grant the operator of public search engine permission to use spider to copy material from the website for the sole purpose of creating publicly available searchable index of the material but not cache or archive of such material whatsapp reserve the right to revoke these exception either generally or in specific case while we don t disallow the use of sniffer such a ethereal tcpdump or httpwatch in general we do disallow any effort to reverse engineer our system our protocol or explore outside the boundary of the normal request made by whatsapp client we have to disallow using request modification tool such a fiddler or whisker or the like or any other such tool activity that are meant to explore or harm penetrate or test the site you must secure our permission before you measure test health check or otherwise monitor any network equipment server or asset hosted on our domain you agree not to collect or harvest any personally identifiable information including phone number from the service nor to use the communication system provided by the service for any commercial solicitation or spam purpose you agree not to spam or solicit for commercial purpose any user of the service',\n",
       " 'intellectual property right the design of the whatsapp service along with whatsapp created text script graphic interactive feature and the like except status submission a defined below and the trademark service mark and logo contained therein mark are owned by or licensed to whatsapp subject to copyright and other intellectual property right under united state and foreign law and international convention the service is provided to you a is for your information and personal use only whatsapp reserve all right not expressly granted in and to the service you agree to not engage in the use copying or distribution of any of the service other than expressly permitted herein including any use copying or distribution of status submission of third party obtained through the service for any commercial purpose',\n",
       " 'user status submission a the whatsapp service allows whatsapp user to submit status text profile photo and other communication submitted by you a well a the automatic submission of your last seen status collectively the status submission these status submission may be hosted shared and or published a part of the whatsapp service and may be visible to other user of the service who have your mobile phone number in their mobile phone and which you have not expressly blocked for clarity direct message location data and photo or file that you send directly to other whatsapp user will only be viewable by those whatsapp user s or group s you directly send such information but status submission may be globally viewed by whatsapp user that have your mobile phone number on their smartphone unless the user is blocked by you currently we have no method of providing different level of visibility of your status submission among user that have your mobile phone number you acknowledge and agree that any status submission may be globally viewed by user that have your mobile phone number so don t submit or post status message or profile photo that you don t want to be seen globally a good rule of thumb is if you don t want the whole world to know something or see something don t submit it a a status submission to the service the submission of your last seen status is done on an automatic basis a clarified in the following section you retain your ownership right in your status submission you understand that whether or not such status submission are published whatsapp doe not guarantee any confidentiality with respect to any submission',\n",
       " 'b you shall be solely responsible for your own status submission and the consequence of posting or publishing them because whatsapp is only acting a a repository of data user submitted status do not necessarily represent the view or opinion of whatsapp and whatsapp make no guarantee a to the validity accuracy or legal status of any status in connection with status submission you affirm represent and or warrant that i you own or have the necessary license right consent and permission to use and authorize whatsapp to use all patent trademark trade secret copyright or other proprietary right in and to any and all status submission to enable inclusion and use of the status submission in the manner contemplated by the service and these term of service and ii you have the written consent release and or permission of each and every identifiable individual person in the status submission to use the name or likeness of each and every such identifiable individual person to enable inclusion and use of the status submission in the manner contemplated by the service and these term of service to be clear you retain all of your ownership right in your status submission but you have to have the right in the first place however by submitting the status submission to whatsapp you hereby grant whatsapp a worldwide non exclusive royalty free sublicenseable and transferable license to use reproduce distribute prepare derivative work of display and perform the status submission in connection with the whatsapp service and whatsapp s and it successor s business including without limitation for promoting and redistributing part or all of the whatsapp service and derivative work thereof in any medium format and through any medium channel you also hereby grant each subscriber to your status on the whatsapp service a non exclusive license to access your status submission through the service the foregoing license granted by you terminates once you remove or delete a status submission from the whatsapp service',\n",
       " 'c in connection with status submission you further agree that you will not i submit material that is copyrighted protected by trade secret or otherwise subject to third party proprietary right including privacy and publicity right unless you are the owner of such right or have permission from their rightful owner to post the material and to grant whatsapp all of the license right granted herein ii publish falsehood or misrepresentation that could damage whatsapp or any third party iii submit material that is unlawful obscene defamatory libelous threatening harassing hateful racially or ethnically offensive or encourages conduct that would be considered a criminal offense give rise to civil liability violate any law or is otherwise inappropriate iv post advertisement or solicitation of business v impersonate another person vi send or store material containing software virus worm trojan horse or other harmful computer code file script agent or program vii interfere with or disrupt the integrity or performance of the service or the data contained therein or viii attempt to gain unauthorized access to the service or it related system or network',\n",
       " 'd adult content must be identified a such whatsapp doe not endorse any status submission or any opinion recommendation or advice expressed therein and whatsapp expressly disclaims any and all liability in connection with status submission whatsapp doe not permit copyright infringing activity and infringement of intellectual property right via it service and whatsapp will remove all content and status submission if properly notified that such content or status submission infringes on another s intellectual property right to file a copyright infringement notification please send a written communication that includes substantially the following see section c of the digital millennium copyright act i a physical or electronic signature of a person authorized to act on behalf of the owner of an exclusive right that is allegedly infringed ii identification of the copyrighted work claimed to have been infringed or if multiple copyrighted work at a single online site are covered by a single notification a representative list of such work iii identification of the material that is claimed to be infringing or to be the subject of infringing activity and that is to be removed or access to which is to be disabled and information reasonably sufficient to permit the service provider to locate the material including the mobile phone number of the whatsapp user allegedly infringing the copyrighted work iv information reasonably sufficient to permit the service provider to contact the complaining party such a an address telephone number and if available an electronic mail address at which the complaining party may be contacted v a statement that the complaining party ha a good faith belief that use of the material in the manner complained of is not authorized by the copyright owner it agent or the law and vi a statement that the information in the notification is accurate and under penalty of perjury that the complaining party is authorized to act on behalf of the owner of an exclusive right that is allegedly infringed such takedown notice may be emailed to support at whatsapp com whatsapp reserve the right to remove content and status submission without prior notice whatsapp may also terminate a user s access to the service if they are determined to be a repeat infringer or for any or no reason including being annoying a repeat infringer is a user who ha been notified of infringing activity more than once and or ha had a status submission removed from the service more than twice an annoying person is anyone who is capriciously or not determined to be annoying by authorized whatsapp employee agent subagents superagents or superheros whatsapp also reserve the right to decide whether content or a status submission is appropriate and complies with these term of service for violation other than copyright infringement and violation of intellectual property law such a but not limited to excessive length or limited interest whatsapp may remove such status submission and or terminate a user s access for uploading such material in violation of these term of service at any time without prior notice and at it sole discretion',\n",
       " 'e you understand that when using the whatsapp service you will be exposed to status submission from a variety of source and that whatsapp is not responsible for the accuracy usefulness safety or intellectual property right of or relating to such status submission and that such status submission are not the responsibility of whatsapp you further understand and acknowledge that you may be exposed to status submission that are inaccurate offensive indecent or objectionable and you agree to waive and hereby do waive any legal or equitable right or remedy you have or may have against whatsapp with respect thereto and agree to indemnify and hold whatsapp it officer director employee agent affiliate and or licensors harmless to the fullest extent allowed by law regarding all matter related to your use of the whatsapp service',\n",
       " 'f whatsapp permit you to link to material on the service for personal purpose only whatsapp reserve the right to discontinue any aspect of the whatsapp service at any time',\n",
       " 'warranty disclaimer you agree that your use of the whatsapp service shall be at your sole risk to the fullest extent permitted by law whatsapp it officer director employee and agent disclaim all warranty express or implied in connection with the service and your use thereof whatsapp make no warranty or representation about the accuracy or completeness of this service s content and assumes no liability or responsibility for any i error mistake or inaccuracy of content ii personal injury or property damage of any nature whatsoever resulting from your access to and use of our service iii any unauthorized access to or use of our server and or any and all personal information and or financial information stored therein iv any interruption or cessation of transmission to or from our service iv any bug virus trojan horse or the like which may be transmitted to or through our service through the action of any third party and or v any error or omissionsin any content or for any loss or damage of any kind incurred a a result of the use of any content posted emailed transmitted or otherwise made available via the whatsapp service whatsapp doe not warrant endorse guarantee or assume responsibility for any product or service advertised or offered by a third party through the whatsapp service or any hyperlinked website or featured in any user status submission or other advertising and whatsapp will not be a party to or in any way be responsible for monitoring any transaction between you and third party provider of product or service a with the purchase of a product or service through any medium or in any environment you should use your best judgment and exercise caution where appropriate and again use this just for fun',\n",
       " 'limitation of liability in no event shall whatsapp it officer director employee or agent be liable to you for any direct indirect incidental special punitive or consequential damage whatsoever resulting from any i error mistake or inaccuracy of content ii personal injury or property damage of any nature whatsoever resulting from your access to and use of our service iii any unauthorized access to or use of our secure server and or any and all personal information and or financial information stored therein iv any interruption or cessation of transmission to or from our server iv any bug virus trojan horse or the like which may be transmitted to or through our service by any third party v any error or omission in any content or for any loss or damage of any kind incurred a a result of your use of any content posted emailed transmitted or otherwise made available via the whatsapp client whether based on warranty contract tort or any other legal theory and whether or not the company is advised of the possibility of such damage and or vi the disclosure of information pursuant to these term of service or privacy policy the foregoing limitation of liability shall apply to the fullest extent permitted by law in the applicable jurisdiction',\n",
       " 'you specifically acknowledge that whatsapp shall not be liable for user submission or the defamatory offensive or illegal conduct of any third party and that the risk of harm or damage from the foregoing rest entirely with you',\n",
       " 'the service is controlled and offered by whatsapp from it facility in the united state of america whatsapp make no representation that the whatsapp service is appropriate or available for use in other location those who access or use the whatsapp service from other jurisdiction do so at their own volition and are responsible for compliance with local law',\n",
       " 'indemnity you agree to defend indemnify and hold harmless whatsapp it parent corporation officer director employee and agent from and against any and all claim damage obligation loss liability cost or debt and expense including but not limited to attorney s fee arising from i your use of and access to the whatsapp service ii your violation of any term of these term of service iii your violation of any third party right including without limitation any copyright property or privacy right or iv any claim that one of your status submission caused damage to a third party this defense and indemnification obligation will survive these term of service and your use of the whatsapp service we don t support or encourage illegal consumption of alcohol or tobacco so there',\n",
       " 'ability to accept term of service you affirm that you are either more than year of age or an emancipated minor or posse legal parental or guardian consent and are fully able and competent to enter into the term condition obligation affirmation representation and warranty set forth in these term of service and to abide by and comply with these term of service in any case you affirm that you are at least year old a the whatsapp service is not intended for child under if you are under year of age you are not permitted to use the whatsapp service you further represent and warrant that you are not located in a country that is subject to a u s government embargo or that ha been designated by the u s government a a terrorist supporting country and that you are not listed on any u s government list of prohibited or restricted party whatsapp is the developer of the service with an address at homestead road santa clara ca info at whatsapp com',\n",
       " 'assignment these term of service and any right and license granted hereunder may not be transferred or assigned by you but may be assigned by whatsapp without restriction',\n",
       " 'general you agree that i the whatsapp service shall be deemed solely based in california ii the whatsapp service shall be deemed a passive server that doe not give rise to personal jurisdiction over whatsapp either specific or general in jurisdiction other than california and iii that you agree to subject to the jurisdiction of california in the event of any legal dispute these term of service shall be governed by the internal substantive law of the state of california without respect to it conflict of law principle any claim or dispute between you and whatsapp that arises in whole or in part from the whatsapp service shall be decided exclusively by a court of competent jurisdiction located in santa clara county california these term of service together with the privacy policy at http www whatsapp com legal privacy and any other legal notice published by whatsapp including but not limited to an end user license agreement shall constitute the entire agreement between you and whatsapp concerning the whatsapp service if any provision of these term of service is deemed invalid by a court of competent jurisdiction the invalidity of such provision shall not affect the validity of the remaining provision of these term of service which shall remain in full force and effect no waiver of any term of this these term of service shall be deemed a further or continuing waiver of such term or any other term and whatsapp s failure to assert any right or provision under these term of service shall not constitute a waiver of such right or provision whatsapp reserve the right to amend or modify these term of service at any time and it is your responsibility to review these term of service for any change if you do not agree to the revised term your only recourse is to discontinue the use of the whatsapp service your continued use of the whatsapp service following any amendment of these term of service will signify your assent to and acceptance of it revised term you and whatsapp agree that any cause of action arising out of or related to the whatsapp service must commence within one year after the cause of action accrues otherwise such cause of action is permanently barred',\n",
       " '']"
      ]
     },
     "execution_count": 208,
     "metadata": {},
     "output_type": "execute_result"
    }
   ],
   "source": [
    "lemm_text = text_cleaning(full_text)\n",
    "lemm_text"
   ]
  },
  {
   "cell_type": "code",
   "execution_count": 219,
   "metadata": {},
   "outputs": [
    {
     "data": {
      "text/html": [
       "<div>\n",
       "<style scoped>\n",
       "    .dataframe tbody tr th:only-of-type {\n",
       "        vertical-align: middle;\n",
       "    }\n",
       "\n",
       "    .dataframe tbody tr th {\n",
       "        vertical-align: top;\n",
       "    }\n",
       "\n",
       "    .dataframe thead th {\n",
       "        text-align: right;\n",
       "    }\n",
       "</style>\n",
       "<table border=\"1\" class=\"dataframe\">\n",
       "  <thead>\n",
       "    <tr style=\"text-align: right;\">\n",
       "      <th></th>\n",
       "      <th>lemm_text</th>\n",
       "    </tr>\n",
       "  </thead>\n",
       "  <tbody>\n",
       "    <tr>\n",
       "      <th>0</th>\n",
       "      <td>your acceptance this is an agreement between w...</td>\n",
       "    </tr>\n",
       "    <tr>\n",
       "      <th>1</th>\n",
       "      <td>whatsapp service these term of service apply t...</td>\n",
       "    </tr>\n",
       "    <tr>\n",
       "      <th>2</th>\n",
       "      <td>whatsapp access a subject to your compliance w...</td>\n",
       "    </tr>\n",
       "    <tr>\n",
       "      <th>3</th>\n",
       "      <td>b in order to access and use the feature of th...</td>\n",
       "    </tr>\n",
       "    <tr>\n",
       "      <th>4</th>\n",
       "      <td>c you agree not to use or launch any automated...</td>\n",
       "    </tr>\n",
       "    <tr>\n",
       "      <th>5</th>\n",
       "      <td>intellectual property right the design of the ...</td>\n",
       "    </tr>\n",
       "    <tr>\n",
       "      <th>6</th>\n",
       "      <td>user status submission a the whatsapp service ...</td>\n",
       "    </tr>\n",
       "    <tr>\n",
       "      <th>7</th>\n",
       "      <td>b you shall be solely responsible for your own...</td>\n",
       "    </tr>\n",
       "    <tr>\n",
       "      <th>8</th>\n",
       "      <td>c in connection with status submission you fur...</td>\n",
       "    </tr>\n",
       "    <tr>\n",
       "      <th>9</th>\n",
       "      <td>d adult content must be identified a such what...</td>\n",
       "    </tr>\n",
       "    <tr>\n",
       "      <th>10</th>\n",
       "      <td>e you understand that when using the whatsapp ...</td>\n",
       "    </tr>\n",
       "    <tr>\n",
       "      <th>11</th>\n",
       "      <td>f whatsapp permit you to link to material on t...</td>\n",
       "    </tr>\n",
       "    <tr>\n",
       "      <th>12</th>\n",
       "      <td>warranty disclaimer you agree that your use of...</td>\n",
       "    </tr>\n",
       "    <tr>\n",
       "      <th>13</th>\n",
       "      <td>limitation of liability in no event shall what...</td>\n",
       "    </tr>\n",
       "    <tr>\n",
       "      <th>14</th>\n",
       "      <td>you specifically acknowledge that whatsapp sha...</td>\n",
       "    </tr>\n",
       "    <tr>\n",
       "      <th>15</th>\n",
       "      <td>the service is controlled and offered by whats...</td>\n",
       "    </tr>\n",
       "    <tr>\n",
       "      <th>16</th>\n",
       "      <td>indemnity you agree to defend indemnify and ho...</td>\n",
       "    </tr>\n",
       "    <tr>\n",
       "      <th>17</th>\n",
       "      <td>ability to accept term of service you affirm t...</td>\n",
       "    </tr>\n",
       "    <tr>\n",
       "      <th>18</th>\n",
       "      <td>assignment these term of service and any right...</td>\n",
       "    </tr>\n",
       "    <tr>\n",
       "      <th>19</th>\n",
       "      <td>general you agree that i the whatsapp service ...</td>\n",
       "    </tr>\n",
       "    <tr>\n",
       "      <th>20</th>\n",
       "      <td></td>\n",
       "    </tr>\n",
       "  </tbody>\n",
       "</table>\n",
       "</div>"
      ],
      "text/plain": [
       "                                            lemm_text\n",
       "0   your acceptance this is an agreement between w...\n",
       "1   whatsapp service these term of service apply t...\n",
       "2   whatsapp access a subject to your compliance w...\n",
       "3   b in order to access and use the feature of th...\n",
       "4   c you agree not to use or launch any automated...\n",
       "5   intellectual property right the design of the ...\n",
       "6   user status submission a the whatsapp service ...\n",
       "7   b you shall be solely responsible for your own...\n",
       "8   c in connection with status submission you fur...\n",
       "9   d adult content must be identified a such what...\n",
       "10  e you understand that when using the whatsapp ...\n",
       "11  f whatsapp permit you to link to material on t...\n",
       "12  warranty disclaimer you agree that your use of...\n",
       "13  limitation of liability in no event shall what...\n",
       "14  you specifically acknowledge that whatsapp sha...\n",
       "15  the service is controlled and offered by whats...\n",
       "16  indemnity you agree to defend indemnify and ho...\n",
       "17  ability to accept term of service you affirm t...\n",
       "18  assignment these term of service and any right...\n",
       "19  general you agree that i the whatsapp service ...\n",
       "20                                                   "
      ]
     },
     "execution_count": 219,
     "metadata": {},
     "output_type": "execute_result"
    }
   ],
   "source": [
    "term_frame = pd.DataFrame(np.array(lemm_text), columns = ['lemm_text'])\n",
    "term_frame"
   ]
  },
  {
   "cell_type": "code",
   "execution_count": 271,
   "metadata": {},
   "outputs": [],
   "source": [
    "vect = tvec.transform(lemm_text).toarray()\n",
    "prediction = pd.DataFrame(lr.predict_proba(vect), columns=['warning','non-warning'])\n",
    "results = pd.merge(term_frame, prediction, left_index=True, right_index=True)\n",
    "my_prediction = results[\"warning\"].mean()"
   ]
  },
  {
   "cell_type": "code",
   "execution_count": 273,
   "metadata": {},
   "outputs": [
    {
     "data": {
      "text/plain": [
       "0.43443139778469436"
      ]
     },
     "execution_count": 273,
     "metadata": {},
     "output_type": "execute_result"
    }
   ],
   "source": [
    "my_prediction"
   ]
  }
 ],
 "metadata": {
  "kernelspec": {
   "display_name": "Python 3",
   "language": "python",
   "name": "python3"
  },
  "language_info": {
   "codemirror_mode": {
    "name": "ipython",
    "version": 3
   },
   "file_extension": ".py",
   "mimetype": "text/x-python",
   "name": "python",
   "nbconvert_exporter": "python",
   "pygments_lexer": "ipython3",
   "version": "3.7.4"
  }
 },
 "nbformat": 4,
 "nbformat_minor": 2
}
